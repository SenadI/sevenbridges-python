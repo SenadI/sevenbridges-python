{
 "cells": [
  {
   "cell_type": "markdown",
   "metadata": {},
   "source": [
    "# Quickstart"
   ]
  },
  {
   "cell_type": "markdown",
   "metadata": {},
   "source": [
    "## Authentication and Configuration\n",
    "***"
   ]
  },
  {
   "cell_type": "markdown",
   "metadata": {},
   "source": [
    "In order to authenticate to the API, sevenbridges-python library requires that you pass in your authentication token and URL endpoint, acquired from the Seven Bridges Platform or Seven Bridges related products like Cancer Genomics Cloud.\n",
    "\n",
    "You can find your authentication token on the respective platform pages:\n",
    "\n",
    "* [https://igor.sbgenomics.com/developers](https://igor.sbgenomics.com/developers) \n",
    "* [https://cgc.sbgenomics.com/developers](https://cgc.sbgenomics.com/developers)\n",
    "\n",
    "Apart from this, you need to define the API endpoint, which is:\n",
    "\n",
    "* [https://api.sbgenomics.com/v2](https://api.sbgenomics.com/v2) for Seven Bridges Platform\n",
    "* [https://cgc-api.sbgenomics.com/v2](https://cgc-api.sbgenomics.com/v2) for the CGC.\n",
    "\n",
    "The api documentation is available:\n",
    "\n",
    "* [http://docs.sevenbridges.com/docs/the-api](http://docs.sevenbridges.com/docs/the-api) for Seven Bridges Platform.\n",
    "* [http://docs.cancergenomicscloud.org/docs/the-cgc-api](http://docs.cancergenomicscloud.org/docs/the-cgc-api) for the CGC."
   ]
  },
  {
   "cell_type": "markdown",
   "metadata": {},
   "source": [
    "### Initializing the library"
   ]
  },
  {
   "cell_type": "markdown",
   "metadata": {},
   "source": [
    "Once you obtain your authentication token you can pass it to the Config object. You can instantiate your Api object by passing the appropriate configuration. There are three ways you can  configure the library:\n",
    "\n",
    "1. Pass parameters `url` and `token` explicitly when initializing api object.\n",
    "2. Put API endpoint and token in the environment variables `API_URL` and `AUTH_TOKEN` respectively.\n",
    "3. Use configuration file `$HOME/.sbgrc` with defined parameters.\n",
    "\n",
    "*Note on authentication information*:\n",
    "\n",
    "Keep your authentication token safe, as you would keep any other secret information.\n",
    "Generally, we recommend using configuration file, as the authentication token is then stored on user's home folder and no strewn about in code and committed to source code repositories."
   ]
  },
  {
   "cell_type": "markdown",
   "metadata": {},
   "source": [
    "### Import the library"
   ]
  },
  {
   "cell_type": "code",
   "execution_count": null,
   "metadata": {
    "collapsed": false,
    "scrolled": true
   },
   "outputs": [],
   "source": [
    "import sevenbridges as sbg"
   ]
  },
  {
   "cell_type": "markdown",
   "metadata": {},
   "source": [
    "#### Initialize the library using configuration file\n",
    "\n",
    "Api object represents the central resource for querying, saving and performing all sort of actions on your resources. Once you have instantiated configuration class, pass it to the API class constructor."
   ]
  },
  {
   "cell_type": "code",
   "execution_count": null,
   "metadata": {
    "collapsed": true
   },
   "outputs": [],
   "source": [
    "c = sbg.Config(profile='sbpla')\n",
    "api = sbg.Api(config=c)"
   ]
  },
  {
   "cell_type": "markdown",
   "metadata": {},
   "source": [
    "#### Initialize the library using environment"
   ]
  },
  {
   "cell_type": "code",
   "execution_count": null,
   "metadata": {
    "collapsed": true,
    "scrolled": true
   },
   "outputs": [],
   "source": [
    "import os\n",
    "\n",
    "# Usually these would be set in the shell beforehand\n",
    "os.environ['API_URL'] = 'https://api.sbgenomics.com/v2'\n",
    "os.environ['AUTH_TOKEN'] = '<TOKEN_HERE>'\n",
    "\n",
    "c = sbg.Config()\n",
    "api = sbg.Api(config=c)"
   ]
  },
  {
   "cell_type": "markdown",
   "metadata": {},
   "source": [
    "#### Initialize library explicitly\n",
    "Library can be also instatiated explicity by passing the url and token as key value arguments."
   ]
  },
  {
   "cell_type": "code",
   "execution_count": null,
   "metadata": {
    "collapsed": false,
    "scrolled": true
   },
   "outputs": [],
   "source": [
    "api = sbg.Api(url='https://api.sbgenomics.com/v2', token='27d598b71beb4660952739ed5f94ebda')"
   ]
  },
  {
   "cell_type": "markdown",
   "metadata": {},
   "source": [
    "*Note* - you can always initialize several API clients with possibly different credentials or talking to a different environment"
   ]
  },
  {
   "cell_type": "markdown",
   "metadata": {},
   "source": [
    "#### Notes on config file format\n",
    "Format of the `.sbgrc` file is as a simple .ini file format, with profile shown in brackets.\n",
    "```\n",
    "[sbpla]\n",
    "api-url = 'https://api.sbgenomics.com/v2'\n",
    "auth-token = 700992f7b24a470bb0b028fe813b8100\n",
    "\n",
    "[cgc]\n",
    "api-url = 'https://api.sbgenomics.com/v2'\n",
    "auth-token = 910975f5b24a470bb0b028fe813b8100\n",
    "\n",
    "```"
   ]
  },
  {
   "cell_type": "markdown",
   "metadata": {},
   "source": [
    "## Rate limit\n",
    "***\n",
    "For requests using authentication, you can issue a maximum of 1000 requests per 300 seconds.\n",
    "Note that this limit is generally subject to change, depending on API usage and technical limits.\n",
    "Your current rate limit, the number of remaining request, or the rate reset time can be obtained\n",
    "using your Api object."
   ]
  },
  {
   "cell_type": "code",
   "execution_count": null,
   "metadata": {
    "collapsed": false,
    "scrolled": true
   },
   "outputs": [],
   "source": [
    "api.limit, api.remaining, api.reset_time"
   ]
  },
  {
   "cell_type": "markdown",
   "metadata": {},
   "source": [
    "## Managing users\n",
    "***\n"
   ]
  },
  {
   "cell_type": "markdown",
   "metadata": {},
   "source": [
    "Currently authenticated user can always access his/her's information by invoking the following method. "
   ]
  },
  {
   "cell_type": "code",
   "execution_count": null,
   "metadata": {
    "collapsed": true,
    "scrolled": true
   },
   "outputs": [],
   "source": [
    "me = api.users.me()"
   ]
  },
  {
   "cell_type": "markdown",
   "metadata": {},
   "source": [
    "**me** object now contains user information including:\n",
    "     \n"
   ]
  },
  {
   "cell_type": "markdown",
   "metadata": {},
   "source": [
    "    me.href\n",
    "    me.username \n",
    "    me.email\n",
    "    me.first_name\n",
    "    me.last_name\n",
    "    me.affiliation\n",
    "    me.phone\n",
    "    me.address\n",
    "    me.city\n",
    "    me.state\n",
    "    me.zip_code\n",
    "    me.country"
   ]
  },
  {
   "cell_type": "markdown",
   "metadata": {},
   "source": [
    "For example to obtain your email invoke:"
   ]
  },
  {
   "cell_type": "code",
   "execution_count": null,
   "metadata": {
    "collapsed": false,
    "scrolled": true
   },
   "outputs": [],
   "source": [
    "me.email"
   ]
  },
  {
   "cell_type": "markdown",
   "metadata": {},
   "source": [
    "## Managing projects\n"
   ]
  },
  {
   "cell_type": "markdown",
   "metadata": {},
   "source": [
    "***\n",
    "There are several methods on the Api object which can help you manage your projects.\n"
   ]
  },
  {
   "cell_type": "markdown",
   "metadata": {},
   "source": [
    "In order to list or query projects invoke a query method.\n",
    "Query method follows server pagination and therefore initial pagination parameters can be\n",
    "passed to the query method. **offset** parameter controls the start of the pagination while\n",
    "the **limit** parameter controls the number of items you want to be retrieved."
   ]
  },
  {
   "cell_type": "code",
   "execution_count": null,
   "metadata": {
    "collapsed": true,
    "scrolled": true
   },
   "outputs": [],
   "source": [
    "project_list = api.projects.query(offset=0, limit=10)"
   ]
  },
  {
   "cell_type": "markdown",
   "metadata": {},
   "source": [
    "**project_list** is now an object of the type **Collection** which acts just like a regular python list. \n",
    "What that means is that is supports indexing, slicing, iterating and other list functions. All collections in the python-sbg library have two methods **next_page** \n",
    "and **previous_page** which allow you to load next pagination page or previous pagination page."
   ]
  },
  {
   "cell_type": "markdown",
   "metadata": {},
   "source": [
    "### List Projects - introduction to paging and iteration \n",
    "\n",
    "There are several things you can do with a collection of any kind of objects:\n",
    "\n",
    "1. The generic query, like `api.projects.query()` accepts offset and limit parameters.\n",
    "2. If you wish to iterate on complete collection use `all()` method, which returns an iterator \n",
    "3. If you have a need to manually iterate on the collection (page per page), use `next_page()` and `previous_page()` methods on the collection.\n",
    "4. You can easily cast the collection to the list, so you can re-use it later by issuing Python standard `project_list = list(api.projects.query().all())`. "
   ]
  },
  {
   "cell_type": "code",
   "execution_count": null,
   "metadata": {
    "collapsed": false,
    "scrolled": true
   },
   "outputs": [],
   "source": [
    "# Query first 10 projects.\n",
    "project_list = api.projects.query(limit=10)"
   ]
  },
  {
   "cell_type": "code",
   "execution_count": null,
   "metadata": {
    "collapsed": false,
    "scrolled": true
   },
   "outputs": [],
   "source": [
    "# Iterate on all projects and print out name and id\n",
    "for project in api.projects.query().all():\n",
    "    print (project.id,project.name)"
   ]
  },
  {
   "cell_type": "code",
   "execution_count": null,
   "metadata": {
    "collapsed": false,
    "scrolled": true
   },
   "outputs": [],
   "source": [
    "# Get all my current projects and store them in a list\n",
    "my_projects = list(api.projects.query().all())"
   ]
  },
  {
   "cell_type": "markdown",
   "metadata": {},
   "source": [
    "### Get single project\n",
    "\n",
    "You can get a single project by issuing `api.projects.get()` method with a parameter `id`, signifying the id of a project. Note that this call, as well as other calls to the API server will raise an Exception which you can catch and process if required."
   ]
  },
  {
   "cell_type": "code",
   "execution_count": null,
   "metadata": {
    "collapsed": false,
    "scrolled": true
   },
   "outputs": [],
   "source": [
    "from sevenbridges.errors import SbgError\n",
    "try:\n",
    "    project_id = 'doesnotexist/forsure'\n",
    "    project = api.projects.get(id=project_id)\n",
    "except SbgError as e:\n",
    "    print (e.message)"
   ]
  },
  {
   "cell_type": "markdown",
   "metadata": {},
   "source": [
    "*Note* - when you wish to process errors from the library, you need to import errors from `sevenbridges.errors`. \n",
    "\n",
    "Most often you will use `SbgError`, as this error has properties `code` and `message` which relate to API status codes:\n",
    "\n",
    "* http://docs.sevenbridges.com/docs/api-status-codes for Seven Bridges Platform\n",
    "\n",
    "* http://docs.cancergenomicscloud.org/docs/api-status-codes for the CGC."
   ]
  },
  {
   "cell_type": "markdown",
   "metadata": {},
   "source": [
    "### Project properties"
   ]
  },
  {
   "cell_type": "markdown",
   "metadata": {},
   "source": [
    "Once you have your Project instance it has the following properties attached:"
   ]
  },
  {
   "cell_type": "markdown",
   "metadata": {},
   "source": [
    "    project.href - project href on the API \n",
    "    project.id - id of the project\n",
    "    project.name - name of the project\n",
    "    project.description - description of the project\n",
    "    project.billing_group - billing group attached to the project\n",
    "    project.type - type of the project (v1 or v2)\n",
    "    project.tags - list of project tags"
   ]
  },
  {
   "cell_type": "markdown",
   "metadata": {},
   "source": [
    "**href** property is a url on the server that uniquely identifies the resource. All resources will have this property attached. \n",
    "Project also has its name, identifier, description its type and tags and also a billing_group identifier representing the billing group\n",
    "that is attached to the project."
   ]
  },
  {
   "cell_type": "markdown",
   "metadata": {},
   "source": [
    "### About methods\n",
    "\n",
    "There are two types of methods in sevenbridges-python library, static and dynamic. Static methods are invoked on the API object instance and dynamic from the instance of the object representing the resource.\n",
    "\n",
    "Static methods are:\n",
    "\n",
    "1. Create a new resource - `api.projects.create(name=\"My new project\", billing_group='296a98a9-424c-43f3-aec5-306e0e41c799')` - creates a new resource. The parameters depend on the resource in question \n",
    "2. Get resource - `api.projects.get(id='user/project')` - returns a specific resource, denoted by the id\n",
    "2. Query resources - `api.projects.query()` method returns a pageable list of type `Collection`. The same goes for other resources, so `api.tasks.query(status='COMPLETED')` returns a Collection of completed tasks with applied default paging.\n",
    "\n",
    "Dynamic methods can be generic (for all resources) and specific.\n",
    "They are called on the concrete object, like a `Project` object.\n",
    "\n",
    "So if we have `project` variable as a `Project` object:\n",
    "\n",
    "1. Delete resource - `project.delete()` - deletes object (if supported on the API).\n",
    "2. Reload resource from server - `project.reload()` - reloads state of the object from the server.\n",
    "3. Save changes to server - `project.save()` - saves all properties modified on the library"
   ]
  },
  {
   "cell_type": "markdown",
   "metadata": {},
   "source": [
    "### Project methods \n",
    "\n",
    "The following example shows some manipulation of projects."
   ]
  },
  {
   "cell_type": "code",
   "execution_count": null,
   "metadata": {
    "collapsed": false
   },
   "outputs": [],
   "source": [
    "# Get a collection of projects\n",
    "projects = api.projects.query()\n",
    "\n",
    "# Grab first billing group \n",
    "bg = api.billing_groups.query(limit=1)[0]\n",
    "\n",
    "# Create a project using the billing group \n",
    "new_project = api.projects.create(name=\"My new project\", billing_group=bg.id)\n",
    "\n",
    "# Add a new member to the project\n",
    "new_project.add_member(user='newuser', permissions= {'write':True, 'execute':True})"
   ]
  },
  {
   "cell_type": "markdown",
   "metadata": {},
   "source": [
    "Other project methods include:\n",
    "\n",
    "1. Get members of the project and their permissions - `project.get_members()` - returns a `Collection` of members and their permissions\n",
    "2. Add member to the project - `project.add_member()`\n",
    "3. Remove member from the project - `project.remove_member()`\n",
    "4. List files from the project - `project.get_files()`\n",
    "5. Add files to the project - `project.add_files` - you can add a single `File` or a `Collection` of files\n",
    "6. List apps from the project - `project.get_apps()`\n",
    "7. List tasks from the project - `project.get_tasks`"
   ]
  },
  {
   "cell_type": "markdown",
   "metadata": {
    "collapsed": true
   },
   "source": [
    "## Manage billing\n",
    "\n",
    "***\n",
    "There are several methods on the Api object which can help you manage your billing information.\n",
    "The billing interface is separated to managing *billing groups* and *invoices*."
   ]
  },
  {
   "cell_type": "markdown",
   "metadata": {},
   "source": [
    "### Manage billing groups\n",
    "\n",
    "Querying billing groups will return a standard collection object."
   ]
  },
  {
   "cell_type": "code",
   "execution_count": null,
   "metadata": {
    "collapsed": false,
    "scrolled": true
   },
   "outputs": [],
   "source": [
    "# Query billing groups\n",
    "bgroup_list = api.billing_groups.query(offset=0, limit=10)"
   ]
  },
  {
   "cell_type": "code",
   "execution_count": null,
   "metadata": {
    "collapsed": false,
    "scrolled": true
   },
   "outputs": [],
   "source": [
    "# Fetching billing group information\n",
    "bg = api.billing_groups.get(id='f1969c90-da54-4118-8e96-c3f0b49a163d')"
   ]
  },
  {
   "cell_type": "markdown",
   "metadata": {},
   "source": [
    "### Billing group properties\n",
    "The following are properties that are attached to each billing group. "
   ]
  },
  {
   "cell_type": "markdown",
   "metadata": {},
   "source": [
    "`href` - Billing group href on the API server.\n",
    "\n",
    "`id` - Billing group identifier.\n",
    "\n",
    "`owner` - Username of the user that owns the billing group.\n",
    "\n",
    "`name` - Billing group name.\n",
    "\n",
    "`type` - Billing group type (free or regular)\n",
    "\n",
    "`pending` - True if billing group is not yet approved, False if opposite is true.\n",
    "\n",
    "`diabled` - True if billing group is disabled, False if its enabled.\n",
    "\n",
    "`balance` - Billing group balance."
   ]
  },
  {
   "cell_type": "markdown",
   "metadata": {},
   "source": [
    "### Billing group methods\n",
    "\n",
    "`breakdown()` - Fetches billing group breakdwon for this billing groups that contains costs breakdown by projects and analysis.\n"
   ]
  },
  {
   "cell_type": "markdown",
   "metadata": {},
   "source": [
    "### Manage invoices\n",
    "\n",
    "Querying invoices will return a Invoices collection object."
   ]
  },
  {
   "cell_type": "code",
   "execution_count": null,
   "metadata": {
    "collapsed": true,
    "scrolled": true
   },
   "outputs": [],
   "source": [
    "invoices = api.invoices.query()"
   ]
  },
  {
   "cell_type": "markdown",
   "metadata": {},
   "source": [
    "Once you have obtain the invoice identifier you can also fetch specific invoice information."
   ]
  },
  {
   "cell_type": "code",
   "execution_count": null,
   "metadata": {
    "collapsed": true,
    "scrolled": true
   },
   "outputs": [],
   "source": [
    "invoices = api.invoices.get(id='6351830069')"
   ]
  },
  {
   "cell_type": "markdown",
   "metadata": {},
   "source": [
    "### Invoice properties\n",
    "The following are properties that are attached to each billing group."
   ]
  },
  {
   "cell_type": "markdown",
   "metadata": {},
   "source": [
    "`href` - Invoice href on the API server.\n",
    "\n",
    "`id` - Invoice identifier.\n",
    "\n",
    "`pending` - `True` if invoice is not yet approved, `False` if invoice is approved.\n",
    "\n",
    "`analysis_costs` - Costs of your analysis.\n",
    "\n",
    "`storage_costs` - Storage costs.\n",
    "\n",
    "`total` - Total costs.\n",
    "\n",
    "`invoice_period` - Invoicing period (from-to)"
   ]
  },
  {
   "cell_type": "markdown",
   "metadata": {},
   "source": [
    "## Managing files\n",
    "***"
   ]
  },
  {
   "cell_type": "markdown",
   "metadata": {
    "collapsed": true
   },
   "source": [
    "Files are integral part of each analysis. And as all other resources with sevenbridges-python library user is able to efectivly query files, get the specific file information and metadata. It can be achived in the same manner as it was presented in projects and billing. Available methods for fetching specific files is either `query` or a `get` method."
   ]
  },
  {
   "cell_type": "code",
   "execution_count": null,
   "metadata": {
    "collapsed": false,
    "scrolled": true
   },
   "outputs": [],
   "source": [
    "# Querying files\n",
    "file_list = api.files.query(project='user/my-project')"
   ]
  },
  {
   "cell_type": "code",
   "execution_count": null,
   "metadata": {
    "collapsed": true,
    "scrolled": true
   },
   "outputs": [],
   "source": [
    "# Getting single file information\n",
    "file = api.files.get(id='5710141760b2b14e3cc146af')"
   ]
  },
  {
   "cell_type": "markdown",
   "metadata": {},
   "source": [
    "### File properties\n",
    "\n",
    "Each of the files has the following properties attached:"
   ]
  },
  {
   "cell_type": "markdown",
   "metadata": {},
   "source": [
    "`href` - File href on the API server.\n",
    "\n",
    "`id` - File identifier.\n",
    "\n",
    "`name` - File name.\n",
    "\n",
    "`size` - File size in bytes.\n",
    "\n",
    "`project` - Identifier of the project that file is located in.\n",
    "\n",
    "`created_on` - Date of the file creation.\n",
    "\n",
    "`modified_on` - Last modification of the file.\n",
    "\n",
    "`origin` - File origin information.\n",
    "\n",
    "`metadata` - File metadata"
   ]
  },
  {
   "cell_type": "markdown",
   "metadata": {},
   "source": [
    "### File methods"
   ]
  },
  {
   "cell_type": "markdown",
   "metadata": {},
   "source": [
    "* Refresh file with data from the server. `reload()`\n",
    "* Copy file from one to another project. `copy()`\n",
    "* Download file. `download()`\n",
    "* Save modifications to the server `save()`"
   ]
  },
  {
   "cell_type": "markdown",
   "metadata": {},
   "source": [
    "### Examples"
   ]
  },
  {
   "cell_type": "code",
   "execution_count": null,
   "metadata": {
    "collapsed": false,
    "scrolled": true
   },
   "outputs": [],
   "source": [
    "# Filter files per name containing certain string\n",
    "files = api.files.query(project='user/my-project')\n",
    "my_file = [file for file in files if 'fasta' in file.name]\n",
    "\n",
    "# Or simply query files by name if you know the exact name\n",
    "files = api.files.query(project='user/myproject', name='SRR062634.filt.fastq.gz')\n",
    "my_files = api.files.query(project='user/myproject', metadata = {'sample_id': 'SRR062634'} )\n",
    "\n",
    "\n",
    "# Edit metadata\n",
    "my_file = my_files[0]\n",
    "my_file['sample_id'] = 'my-sample'\n",
    "my_file['library'] = 'my-library'\n",
    "\n",
    "# Save modifications\n",
    "my_file.save()\n",
    "\n",
    "# Copy file\n",
    "new_file = my_file.copy(project='user/my-other-project', name='my-new-file')\n",
    "\n",
    "# Download file - by default it downloads the file with the same name to the current working directory\n",
    "new_file.download(wait=True)"
   ]
  },
  {
   "cell_type": "markdown",
   "metadata": {},
   "source": [
    "## Managing apps\n",
    "***"
   ]
  },
  {
   "cell_type": "markdown",
   "metadata": {},
   "source": [
    "Managing apps with sevenbridges-python library is simple. \n",
    "Apps on Seven Bridges Platform and CGC are implemented using Common Workflow Language specification [https://github.com/common-workflow-language/common-workflow-language](https://github.com/common-workflow-language/common-workflow-language). \n",
    "The sevenbridges-python currenty supports only Draft 2 format of the CWL."
   ]
  },
  {
   "cell_type": "markdown",
   "metadata": {},
   "source": [
    "Querying apps or getting a single app resource is available in the same way as on other resources, using `query()` and `get` methods. You can also invoke the following class methods:\n",
    "\n",
    "* 'get_revision()' - Returns specific app revision.\n",
    "* 'install_app()' - Installs you CWL app on the server.\n",
    "* 'create_revision()' - Creates a new revision from the specific app."
   ]
  },
  {
   "cell_type": "markdown",
   "metadata": {},
   "source": [
    "### App properties\n",
    "\n",
    "The following is the list of available app properties.\n"
   ]
  },
  {
   "cell_type": "markdown",
   "metadata": {},
   "source": [
    "`href` - App href on the API server.\n",
    "\n",
    "`id` - App identifier.\n",
    "\n",
    "`name` - App name.\n",
    "\n",
    "`project` - Identifier of the project that app is located in.\n",
    "\n",
    "`revision` - App revision.\n",
    "\n",
    "`raw` - raw CWL format of the app."
   ]
  },
  {
   "cell_type": "markdown",
   "metadata": {},
   "source": [
    "### App methods"
   ]
  },
  {
   "cell_type": "markdown",
   "metadata": {},
   "source": [
    "Currently there is only one instance method and that is `save()` which saves the app changes on the server."
   ]
  },
  {
   "cell_type": "markdown",
   "metadata": {},
   "source": [
    "## Managing tasks\n",
    "***"
   ]
  },
  {
   "cell_type": "markdown",
   "metadata": {},
   "source": [
    "Tasks are  easy to handle using sevenbridges-python library. As with all resources you can `query()` your tasks, `get()` a single task instance, but also do much more. \n",
    "We will outline task properties and methods and show in the examples how easy is to run your first analysis."
   ]
  },
  {
   "cell_type": "markdown",
   "metadata": {},
   "source": [
    "### Task properties"
   ]
  },
  {
   "cell_type": "markdown",
   "metadata": {},
   "source": [
    "`href` - Task href on the API server.\n",
    "\n",
    "`id` - Task identifier.\n",
    "\n",
    "`name` - Task name.\n",
    "\n",
    "`status` - Task status.\n",
    "\n",
    "`project` - Identifier of the project that task is located in.\n",
    "\n",
    "`app` - The app identifier that was used for this analysis.\n",
    "\n",
    "`type` - Task type.\n",
    "\n",
    "`created_by` - Username of task creator.\n",
    "\n",
    "`executed_by`- Username of the task executor.\n",
    "\n",
    "`batch` - Boolean flag. True for batch tasks, False for regular & child tasks.\n",
    "\n",
    "`batch_by` - Batching criteria.\n",
    "\n",
    "`batch_group` - Batch group assigned to the child task calculated from the `batch_by` criteria.\n",
    "\n",
    "`batch_input` - Input identifier on to wich to apply batching.\n",
    "\n",
    "`parent` - Parent task for a batch child.\n",
    "\n",
    "`end_time` - Task end time.\n",
    "\n",
    "`execution_status` - Task execution status.\n",
    "\n",
    "`price` - Analysis cost.\n",
    "\n",
    "`inputs` - Inputs that were subbmited to the task.\n",
    "\n",
    "`outputs` - Generated outputs from the analysis."
   ]
  },
  {
   "cell_type": "markdown",
   "metadata": {},
   "source": [
    "### Task methods\n",
    "The following represents the list of available class and instance methods."
   ]
  },
  {
   "cell_type": "markdown",
   "metadata": {},
   "source": [
    "* Create a task on the server and run it optionaly - `create()`.\n",
    "* Query tasks - `query()`.\n",
    "* Get single task information - `get()`.\n",
    "* Abort a running task - `abort()`.\n",
    "* Run a draft task. - `run()`\n",
    "* Delete a draft task from the server. - `delete()`.\n",
    "* Refresh the task object information with the date from the server. - `refresh()`.\n",
    "* Save task modifications to the sever. - `save()`.\n",
    "* Get task exection datails. - `get_execution_details()`.\n",
    "* Get batch children if task is a batch task. - `get_batch_children()`."
   ]
  },
  {
   "cell_type": "markdown",
   "metadata": {},
   "source": [
    "### Task Examples"
   ]
  },
  {
   "cell_type": "markdown",
   "metadata": {},
   "source": [
    "### Single task"
   ]
  },
  {
   "cell_type": "code",
   "execution_count": null,
   "metadata": {
    "collapsed": false,
    "scrolled": true
   },
   "outputs": [],
   "source": [
    "# Task name\n",
    "task_name = 'my-first-task'\n",
    "\n",
    "# Project in which I want to run a task.\n",
    "project_id = 'my-username/my-project'\n",
    "\n",
    "# App I want to use to run a task\n",
    "app = 'my-username/my-project/my-app'\n",
    "\n",
    "# Inputs\n",
    "inputs = {}\n",
    "inputs = {'FastQC-Reads'} = api.files.query(project='my-project', metadata={'sample': 'some-sample'})\n",
    "\n",
    "try:\n",
    "    task = api.tasks.create(name=name, project=project, app=app, inputs=inputs, run=True)\n",
    "except SbError:\n",
    "    print('I was unable to run the task.')\n",
    "\n",
    "# Task can also be ran by invoking .run() method on the draft task.\n",
    "task.run()"
   ]
  },
  {
   "cell_type": "markdown",
   "metadata": {},
   "source": [
    "### Batch task"
   ]
  },
  {
   "cell_type": "code",
   "execution_count": null,
   "metadata": {
    "collapsed": false,
    "scrolled": true
   },
   "outputs": [],
   "source": [
    "# Task name\n",
    "task_name = 'my-first-task'\n",
    "\n",
    "# Project in which I want to run a task.\n",
    "project_id = 'my-username/my-project'\n",
    "\n",
    "# App I want to use to run a task\n",
    "app = 'my-username/my-project/my-app'\n",
    "\n",
    "# Inputs\n",
    "inputs = {}\n",
    "inputs = {'FastQC-Reads'} = api.files.query(project='my-project', metadata={'sample': 'some-sample'})\n",
    "\n",
    "# Specifying that task should be created on per file basis.\n",
    "bach_by = {'type': 'item'}\n",
    "\n",
    "\n",
    "# Batch input is going to be FastQC-Reads\n",
    "batch_input = 'FastQC-Reads'\n",
    "\n",
    "try:\n",
    "    task = api.tasks.create(name=name, project=project, app=app, \n",
    "                            inputs=inputs, batch_input=batch_input, batch_by=batch_by run=True)\n",
    "except SbError:\n",
    "    print('I was unable to run a batch task.')"
   ]
  }
 ],
 "metadata": {
  "kernelspec": {
   "display_name": "Python 3",
   "language": "python",
   "name": "python3"
  },
  "language_info": {
   "codemirror_mode": {
    "name": "ipython",
    "version": 3
   },
   "file_extension": ".py",
   "mimetype": "text/x-python",
   "name": "python",
   "nbconvert_exporter": "python",
   "pygments_lexer": "ipython3",
   "version": "3.5.1"
  }
 },
 "nbformat": 4,
 "nbformat_minor": 0
}
